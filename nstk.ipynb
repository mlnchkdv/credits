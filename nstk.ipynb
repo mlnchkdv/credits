{
 "cells": [
  {
   "cell_type": "markdown",
   "metadata": {
    "cell_id": "43d905f824d446c787380bb26a5027cd",
    "deepnote_cell_type": "markdown",
    "tags": []
   },
   "source": [
    "Классы объектов:\n",
    "- Клиенты - **User** (Название - `name`, Вид собственности - `property`, Адрес - `address`, Телефон - `phone`, Контактное лицо - `contact_person`).\n",
    "- Виды кредитов - **Credit** (Название - `name`, Условия получения - `description`, Ставка - `rate`, Срок - `period`).\n",
    "- Кредиты - **Contract** (Вид кредитов - `credit_id`, Клиент - `user_id`, Сумма - `amount`, Дата выдачи - `start_date`).\n"
   ]
  },
  {
   "cell_type": "code",
   "execution_count": 1,
   "metadata": {
    "cell_id": "784516c3766f4fa598e3562fd02d0178",
    "deepnote_cell_type": "code",
    "deepnote_to_be_reexecuted": false,
    "execution_millis": 1,
    "execution_start": 1678373984124,
    "source_hash": "ecd97753",
    "tags": []
   },
   "outputs": [],
   "source": [
    "from dataclasses import dataclass\n",
    "\n",
    "import random\n",
    "from faker import Faker\n",
    "fake_data = Faker(\"ru_RU\")\n",
    "\n",
    "import sqlite3\n",
    "from sqlite3 import Error\n",
    "\n",
    "import pandas as pd"
   ]
  },
  {
   "cell_type": "markdown",
   "metadata": {
    "cell_id": "9a29081643234a8e8e1aa8ee4912861c",
    "deepnote_cell_type": "text-cell-h1",
    "formattedRanges": [],
    "is_collapsed": false,
    "tags": []
   },
   "source": [
    "# Запросы и подключение к БД"
   ]
  },
  {
   "cell_type": "code",
   "execution_count": 2,
   "metadata": {
    "cell_id": "e7f1f6a906c44bfa83ac85f7a86a9daa",
    "deepnote_cell_type": "code",
    "deepnote_to_be_reexecuted": false,
    "execution_millis": 7,
    "execution_start": 1678373987521,
    "source_hash": "8575b4a4",
    "tags": []
   },
   "outputs": [],
   "source": [
    "database = \"credits.db\"\n",
    "\n",
    "# CREATE\n",
    "\n",
    "sql_create_users_table = \"\"\"\n",
    "                        CREATE TABLE IF NOT EXISTS users (\n",
    "                            id integer PRIMARY KEY AUTOINCREMENT,\n",
    "                            name text NOT NULL,\n",
    "                            property text,\n",
    "                            address text,\n",
    "                            phone text,\n",
    "                            contact_person text                         \n",
    "                        ); \"\"\"\n",
    "\n",
    "sql_create_credits_table = \"\"\"\n",
    "                        CREATE TABLE IF NOT EXISTS credits (\n",
    "                            id integer PRIMARY KEY AUTOINCREMENT,\n",
    "                            name text NOT NULL,\n",
    "                            description text,\n",
    "                            rate real NOT NULL,\n",
    "                            period integer\n",
    "                        ); \"\"\"\n",
    "\n",
    "sql_create_contracts_table = \"\"\"\n",
    "                        CREATE TABLE IF NOT EXISTS contracts  (\n",
    "                            id integer PRIMARY KEY AUTOINCREMENT,\n",
    "                            credit_id integer,\n",
    "                            user_id integer,\n",
    "                            amount integer,\n",
    "                            start_date text,\n",
    "                            FOREIGN KEY (credit_id) REFERENCES credits (id),\n",
    "                            FOREIGN KEY (user_id) REFERENCES users (id)\n",
    "                        ); \"\"\"\n",
    "\n",
    "# INSERT\n",
    "\n",
    "sql_insert_users_table = \"\"\" INSERT INTO users (name, property, address, phone, contact_person) VALUES (?,?,?,?,?); \"\"\"\n",
    "\n",
    "sql_insert_credits_table = \"\"\" INSERT INTO credits (name, description, rate, period) VALUES(?,?,?,?); \"\"\"\n",
    "\n",
    "sql_insert_contracts_table = \"\"\" INSERT INTO contracts (credit_id, user_id, amount, start_date) VALUES(?,?,?,?); \"\"\"\n",
    "\n",
    "# SELECT\n",
    "\n",
    "sql_select_users_table = \"\"\" SELECT * FROM users; \"\"\"\n",
    "\n",
    "sql_select_credits_table = \"\"\" SELECT * FROM credits; \"\"\"\n",
    "\n",
    "sql_select_contracts_table = \"\"\" SELECT * FROM contracts; \"\"\"\n",
    "\n",
    "sql_select_user_by_id = \"\"\" SELECT * FROM users WHERE id = ?; \"\"\"\n",
    "\n",
    "sql_select_credit_by_id = \"\"\" SELECT * FROM credits WHERE id = ?; \"\"\"\n",
    "\n",
    "sql_select_contract_by_id = \"\"\" SELECT * FROM contracts WHERE id = ?; \"\"\"\n",
    "\n",
    "# UPDATE\n",
    "\n",
    "sql_update_credit = \"\"\" UPDATE credits\n",
    "                        SET name = ?,\n",
    "                            description = ?,\n",
    "                            rate = ?,\n",
    "                            period = ?\n",
    "                        WHERE id = ?; \"\"\"\n",
    "\n",
    "sql_update_user = \"\"\"   UPDATE users\n",
    "                        SET name = ?,\n",
    "                            property = ?,\n",
    "                            address = ?,\n",
    "                            phone = ?,\n",
    "                            contact_person = ?\n",
    "                        WHERE id = ?; \"\"\"\n",
    "\n",
    "# DELETE\n",
    "\n",
    "sql_delete_credit = \"\"\" DELETE FROM credits WHERE id = ?; \"\"\"\n",
    "\n",
    "sql_delete_user = \"\"\" DELETE FROM users WHERE id = ?; \"\"\""
   ]
  },
  {
   "cell_type": "code",
   "execution_count": 3,
   "metadata": {
    "cell_id": "fcba9ab7df2c4595b1578caeac661680",
    "deepnote_cell_type": "code",
    "deepnote_to_be_reexecuted": false,
    "execution_millis": 1,
    "execution_start": 1678373991832,
    "source_hash": "928e46b7",
    "tags": []
   },
   "outputs": [],
   "source": [
    "def create_connection(db_file):\n",
    "    conn = None\n",
    "    try:\n",
    "        conn = sqlite3.connect(db_file)\n",
    "        return conn\n",
    "    except Error as e:\n",
    "        print(e)\n",
    "    return conn\n",
    "\n",
    "\n",
    "def create_table(conn, create_table_sql):\n",
    "    try:\n",
    "        c = conn.cursor()\n",
    "        c.execute(create_table_sql)\n",
    "    except Error as e:\n",
    "        print(e)"
   ]
  },
  {
   "cell_type": "code",
   "execution_count": 4,
   "metadata": {
    "cell_id": "c992c792b7bb424caf78f44460cc3ed7",
    "deepnote_cell_type": "code",
    "deepnote_to_be_reexecuted": false,
    "execution_millis": 22,
    "execution_start": 1678373993609,
    "source_hash": "da794ca",
    "tags": []
   },
   "outputs": [],
   "source": [
    "conn = create_connection(database)\n",
    "\n",
    "\n",
    "create_table(conn, sql_create_users_table)\n",
    "create_table(conn, sql_create_credits_table)\n",
    "create_table(conn, sql_create_contracts_table)"
   ]
  },
  {
   "cell_type": "markdown",
   "metadata": {
    "cell_id": "16d2ad65ab2d48278fb34da172b2d20d",
    "deepnote_cell_type": "text-cell-h1",
    "formattedRanges": [],
    "is_collapsed": false,
    "tags": []
   },
   "source": [
    "# Функции obj↔db"
   ]
  },
  {
   "cell_type": "markdown",
   "metadata": {
    "cell_id": "06d8d028f5de41008ab02c549195b1bf",
    "deepnote_cell_type": "text-cell-h2",
    "formattedRanges": [],
    "is_collapsed": false,
    "tags": []
   },
   "source": [
    "## obj → db"
   ]
  },
  {
   "cell_type": "code",
   "execution_count": 5,
   "metadata": {
    "cell_id": "22f06d8f883c461dadb1e6cfd0a0ca81",
    "deepnote_cell_type": "code",
    "deepnote_to_be_reexecuted": false,
    "execution_millis": 5,
    "execution_start": 1678374033083,
    "source_hash": "3a2b31d6",
    "tags": []
   },
   "outputs": [],
   "source": [
    "# INSERT\n",
    "\n",
    "def insert_users_table(conn, obj):\n",
    "    try:\n",
    "        cur = conn.cursor()\n",
    "        user = (obj.name, obj.property, obj.address, obj.phone, obj.contact_person)\n",
    "        cur.execute(sql_insert_users_table, user)\n",
    "        conn.commit()\n",
    "        return cur.lastrowid\n",
    "    except Error as e:\n",
    "        print(e)\n",
    "\n",
    "def insert_credits_table(conn, obj):\n",
    "    try:\n",
    "        cur = conn.cursor()\n",
    "        credit = (obj.name, obj.description, obj.rate, obj.period)\n",
    "        cur.execute(sql_insert_credits_table, credit)\n",
    "        conn.commit()\n",
    "        return cur.lastrowid\n",
    "    except Error as e:\n",
    "        print(e)\n",
    "\n",
    "def insert_contracts_table(conn, obj):\n",
    "    try:\n",
    "        cur = conn.cursor()\n",
    "        contract = (obj.credit_id, obj.user_id, obj.amount, obj.start_date)\n",
    "        cur.execute(sql_insert_contracts_table, contract)\n",
    "        conn.commit()\n",
    "        return cur.lastrowid\n",
    "    except Error as e:\n",
    "        print(e)\n",
    "\n",
    "# UPDATE\n",
    "\n",
    "def update_credit(conn, obj):\n",
    "    try:\n",
    "        cur = conn.cursor()\n",
    "        credit = (obj.name, obj.description, obj.rate, obj.period, obj._id)\n",
    "        cur.execute(sql_update_credit, credit)\n",
    "        conn.commit()\n",
    "    except Error as e:\n",
    "        print(e)\n",
    "\n",
    "def update_user(conn, obj):\n",
    "    try:\n",
    "        cur = conn.cursor()\n",
    "        user = (obj.name, obj.property, obj.address, obj.phone, obj.contact_person, obj._id)\n",
    "        cur.execute(sql_update_user, user)\n",
    "        conn.commit()\n",
    "    except Error as e:\n",
    "        print(e)\n",
    "\n",
    "# DELETE\n",
    "\n",
    "def delete_credit(conn, obj):\n",
    "    try:\n",
    "        cur = conn.cursor()\n",
    "        cur.execute(sql_delete_credit, (obj._id, ))\n",
    "        conn.commit()\n",
    "    except Error as e:\n",
    "        print(e)\n",
    "\n",
    "def delete_user(conn, obj):\n",
    "    try:\n",
    "        cur = conn.cursor()\n",
    "        cur.execute(sql_delete_user, (obj._id, ))\n",
    "        conn.commit()\n",
    "    except Error as e:\n",
    "        print(e)\n",
    "\n"
   ]
  },
  {
   "cell_type": "markdown",
   "metadata": {
    "cell_id": "160185950da545c79bfd4999e91b0c52",
    "deepnote_cell_type": "text-cell-h2",
    "formattedRanges": [],
    "is_collapsed": false,
    "tags": []
   },
   "source": [
    "## obj ← db"
   ]
  },
  {
   "cell_type": "code",
   "execution_count": null,
   "metadata": {
    "cell_id": "56151fb829ab4897a41a108b4e6bb6b4",
    "deepnote_cell_type": "code",
    "deepnote_to_be_reexecuted": false,
    "execution_millis": 2,
    "execution_start": 1678374054264,
    "source_hash": "ae8cd24d",
    "tags": []
   },
   "outputs": [],
   "source": [
    "# SELECT\n",
    "\n",
    "def select_user_by_id(conn, id):\n",
    "    try:\n",
    "        cur = conn.cursor()\n",
    "        cur.execute(sql_select_user_by_id, (id, ))\n",
    "        conn.commit()\n",
    "        return cur.fetchone()\n",
    "    except Error as e:\n",
    "        print(e)\n",
    "\n",
    "def select_credit_by_id(conn, id):\n",
    "    try:\n",
    "        cur = conn.cursor()\n",
    "        cur.execute(sql_select_credit_by_id, (id, ))\n",
    "        conn.commit()\n",
    "        return cur.fetchone()\n",
    "    except Error as e:\n",
    "        print(e)\n",
    "\n",
    "def select_contract_by_id(conn, id):\n",
    "    try:\n",
    "        cur = conn.cursor()\n",
    "        cur.execute(sql_select_contract_by_id, (id, ))\n",
    "        conn.commit()\n",
    "        return cur.fetchone()\n",
    "    except Error as e:\n",
    "        print(e)"
   ]
  },
  {
   "cell_type": "markdown",
   "metadata": {
    "cell_id": "454f24b62a99465988a4556c99786b81",
    "deepnote_cell_type": "text-cell-h1",
    "formattedRanges": [],
    "is_collapsed": false,
    "tags": []
   },
   "source": [
    "# Классы"
   ]
  },
  {
   "cell_type": "code",
   "execution_count": null,
   "metadata": {
    "cell_id": "03ee41546a154d80a17a1088724f26c6",
    "deepnote_cell_type": "code",
    "deepnote_to_be_reexecuted": false,
    "execution_millis": 4,
    "execution_start": 1678374591456,
    "source_hash": "c43d9d97",
    "tags": []
   },
   "outputs": [],
   "source": [
    "# Название, Вид собственности, Адрес, Телефон, Контактное лицо\n",
    "@dataclass\n",
    "class User:\n",
    "    _id: int\n",
    "    name: str\n",
    "    property: str\n",
    "    address: str\n",
    "    phone: str\n",
    "    contact_person: str\n",
    "\n",
    "    def __init__(\n",
    "        self,\n",
    "        name=None,\n",
    "        property=None,\n",
    "        address=None,\n",
    "        phone=None,\n",
    "        contact_person=None,\n",
    "        get_by_id=None,\n",
    "    ):\n",
    "        if get_by_id == None:\n",
    "            if name == None:\n",
    "                self.name = fake_data.name()\n",
    "            else:\n",
    "                self.name = name\n",
    "\n",
    "            if property == None:\n",
    "                self.property = fake_data.bs()\n",
    "            else:\n",
    "                self.property = property\n",
    "\n",
    "            if address == None:\n",
    "                self.address = fake_data.address()\n",
    "            else:\n",
    "                self.address = address\n",
    "\n",
    "            if phone == None:\n",
    "                self.phone = fake_data.phone_number()\n",
    "            else:\n",
    "                self.phone = phone\n",
    "\n",
    "            if contact_person == None:\n",
    "                self.contact_person = fake_data.name()\n",
    "            else:\n",
    "                self.contact_person = contact_person\n",
    "\n",
    "            self._count = 0\n",
    "\n",
    "            self._id = insert_users_table(conn, self)\n",
    "\n",
    "        else:  # добавить проверку на корректность id\n",
    "            user = select_user_by_id(conn, get_by_id)\n",
    "            self._id = user[0]\n",
    "            self.name = user[1]\n",
    "            self.property = user[2]\n",
    "            self.address = user[3]\n",
    "            self.phone = user[4]\n",
    "            self.contact_person = user[5]\n",
    "\n",
    "    def delete(self):\n",
    "        delete_user(conn, self)\n",
    "\n",
    "    def update(self, name=None, age=None):\n",
    "        if name != None:\n",
    "            self.name = name\n",
    "            update_user(conn, self)\n",
    "\n",
    "        if age != None:\n",
    "            self.age = age\n",
    "            update_user(conn, self)\n",
    "\n",
    "\n",
    "# Название, Условия получения, Ставка, Срок\n",
    "@dataclass\n",
    "class Credit:\n",
    "    _id: int\n",
    "    name: str\n",
    "    description: str\n",
    "    rate: float\n",
    "    period: int\n",
    "\n",
    "    def __init__(\n",
    "        self, \n",
    "        name=None, \n",
    "        description=None, \n",
    "        rate=None, \n",
    "        period=None, \n",
    "        get_by_id=None\n",
    "    ):\n",
    "        if get_by_id == None:\n",
    "            if name == None:\n",
    "                self.name = fake_data.paragraph(nb_sentences=1)\n",
    "            else:\n",
    "                self.name = name\n",
    "\n",
    "            if description == None:\n",
    "                self.description = fake_data.paragraph(nb_sentences=5)\n",
    "            else:\n",
    "                self.description = description\n",
    "\n",
    "            if rate == None:\n",
    "                self.rate = round(random.uniform(0, 1), 2)\n",
    "            else:\n",
    "                self.rate = rate\n",
    "\n",
    "            if period == None:\n",
    "                self.period = random.randint(1, 365)\n",
    "            else:\n",
    "                self.period = period\n",
    "\n",
    "            self._id = insert_credits_table(conn, self)\n",
    "\n",
    "        else:\n",
    "            credit = select_credit_by_id(conn, get_by_id)\n",
    "            self._id = credit[0]\n",
    "            self.name = credit[1]\n",
    "            self.description = credit[2]\n",
    "            self.rate = credit[3]\n",
    "            self.period = credit[4]\n",
    "\n",
    "\n",
    "# Вид кредитов, Клиент, Сумма, Дата выдачи\n",
    "@dataclass\n",
    "class Contract:\n",
    "    _id: int\n",
    "    credit_id: int\n",
    "    user_id: int\n",
    "    amount: int\n",
    "    start_date: str\n",
    "\n",
    "    def __init__(\n",
    "        self, \n",
    "        credit_id=None, \n",
    "        user_id=None, \n",
    "        amount=None, \n",
    "        start_date=None, \n",
    "        get_by_id=None\n",
    "    ):\n",
    "        if get_by_id == None:\n",
    "            if credit_id == None:\n",
    "                credit_id_list = pd.read_sql(sql_select_credits_table, conn)[\"id\"].tolist()\n",
    "                self.credit_id = random.choice(credit_id_list)\n",
    "            else:\n",
    "                self.credit_id = credit_id\n",
    "\n",
    "            if user_id == None:\n",
    "                user_id_list = pd.read_sql(sql_select_users_table, conn)[\"id\"].tolist()\n",
    "                self.user_id = random.choice(user_id_list)\n",
    "            else:\n",
    "                self.user_id = user_id\n",
    "\n",
    "            if amount == None:\n",
    "                self.amount = random.randint(100000, 5000000)\n",
    "            else:\n",
    "                self.amount = amount\n",
    "\n",
    "            if start_date == None:\n",
    "                self.start_date = fake_data.date()\n",
    "            else:\n",
    "                self.start_date = start_date\n",
    "\n",
    "            self._id = insert_contracts_table(conn, self)\n",
    "\n",
    "        else:\n",
    "            contract = select_contract_by_id(conn, get_by_id)\n",
    "            self._id = contract[0]\n",
    "            self.credit_id = contract[1]\n",
    "            self.user_id = contract[2]\n",
    "            self.amount = contract[3]\n",
    "            self.start_date = contract[4]\n",
    "\n",
    "    def info(self):\n",
    "        return (\n",
    "            self,\n",
    "            # select_user_by_id(conn, self.user_id), \n",
    "            User(get_by_id = self.user_id),\n",
    "            # select_credit_by_id(conn, self.credit_id), \n",
    "            Credit(get_by_id = self.credit_id),\n",
    "        )\n"
   ]
  },
  {
   "cell_type": "markdown",
   "metadata": {
    "cell_id": "b734576f219f427587a107b9a46eece3",
    "deepnote_cell_type": "text-cell-h1",
    "formattedRanges": [],
    "is_collapsed": false,
    "tags": []
   },
   "source": [
    "# Ввод данных"
   ]
  },
  {
   "cell_type": "code",
   "execution_count": 17,
   "metadata": {
    "cell_id": "ff759bca13f74e5194e60614538030f4",
    "deepnote_cell_type": "code",
    "deepnote_to_be_reexecuted": false,
    "execution_millis": 15,
    "execution_start": 1678374329408,
    "source_hash": "ca8eeb0c",
    "tags": []
   },
   "outputs": [
    {
     "data": {
      "text/plain": [
       "User(_id=1, name='Капустина Василиса Аркадьевна', property='Трансформация круглосуточных интернет-магазинов', address='ст. Верхотурье, алл. Кошевого, д. 5/9, 071826', phone='+7 (183) 713-2624', contact_person='Куликова Вероника Владиславовна')"
      ]
     },
     "execution_count": 17,
     "metadata": {},
     "output_type": "execute_result"
    }
   ],
   "source": [
    "u = User()\n",
    "u"
   ]
  },
  {
   "cell_type": "code",
   "execution_count": 18,
   "metadata": {
    "cell_id": "2b3950095642464a8b86e0333fe7aff8",
    "deepnote_cell_type": "code",
    "deepnote_to_be_reexecuted": false,
    "execution_millis": 16,
    "execution_start": 1678374331549,
    "source_hash": "47e04b5b",
    "tags": []
   },
   "outputs": [
    {
     "data": {
      "text/plain": [
       "Credit(_id=1, name='Уничтожение висеть мимо призыв ребятишки поезд.', description='Темнеть написать выгнать падать плавно очутиться степь. Господь жить пол сходить витрина. Назначить потом космос болото. Невыносимый пища угодный выбирать головной. Сверкающий место страсть функция школьный.', rate=0.06, period=196)"
      ]
     },
     "execution_count": 18,
     "metadata": {},
     "output_type": "execute_result"
    }
   ],
   "source": [
    "k = Credit()\n",
    "k"
   ]
  },
  {
   "cell_type": "code",
   "execution_count": 30,
   "metadata": {
    "cell_id": "634289704c4a4d15af4df4d6d5b74b48",
    "deepnote_cell_type": "code",
    "deepnote_to_be_reexecuted": false,
    "execution_millis": 20,
    "execution_start": 1678374601784,
    "source_hash": "625f1e56",
    "tags": []
   },
   "outputs": [
    {
     "data": {
      "text/plain": [
       "Contract(_id=3, credit_id=1, user_id=1, amount=2018233, start_date='2001-10-05')"
      ]
     },
     "execution_count": 30,
     "metadata": {},
     "output_type": "execute_result"
    }
   ],
   "source": [
    "c = Contract()\n",
    "c"
   ]
  },
  {
   "cell_type": "code",
   "execution_count": null,
   "metadata": {
    "cell_id": "258bf653c0ea4c2b8fc78e68eb347ce3",
    "deepnote_cell_type": "code",
    "deepnote_to_be_reexecuted": false,
    "execution_millis": 28,
    "execution_start": 1678374604808,
    "source_hash": "14004ac7",
    "tags": []
   },
   "outputs": [
    {
     "data": {
      "text/plain": [
       "Contract(_id=1, credit_id=1, user_id=1, amount=4718006, start_date='1997-05-20')"
      ]
     },
     "execution_count": 8,
     "metadata": {},
     "output_type": "execute_result"
    }
   ],
   "source": [
    "c.info()"
   ]
  },
  {
   "cell_type": "markdown",
   "metadata": {
    "cell_id": "87ce9fff1e0f42d39a591982b71502b4",
    "deepnote_cell_type": "text-cell-h1",
    "formattedRanges": [],
    "is_collapsed": false,
    "tags": []
   },
   "source": [
    "# Проверка "
   ]
  },
  {
   "cell_type": "markdown",
   "metadata": {
    "cell_id": "a7c5ec423b8d4ac498a265f8868ac4c1",
    "deepnote_cell_type": "text-cell-h2",
    "formattedRanges": [],
    "is_collapsed": false,
    "tags": []
   },
   "source": [
    "## Клиенты"
   ]
  },
  {
   "cell_type": "code",
   "execution_count": 20,
   "metadata": {
    "cell_id": "7cd7a33810ee41a393b6f34443482ab0",
    "deepnote_cell_type": "code",
    "deepnote_to_be_reexecuted": false,
    "execution_millis": 34,
    "execution_start": 1678374354533,
    "source_hash": "a6e7a16a",
    "tags": []
   },
   "outputs": [
    {
     "data": {
      "application/vnd.deepnote.dataframe.v3+json": {
       "column_count": 6,
       "columns": [
        {
         "dtype": "int64",
         "name": "id",
         "stats": {
          "histogram": [
           {
            "bin_end": 0.6,
            "bin_start": 0.5,
            "count": 0
           },
           {
            "bin_end": 0.7,
            "bin_start": 0.6,
            "count": 0
           },
           {
            "bin_end": 0.8,
            "bin_start": 0.7,
            "count": 0
           },
           {
            "bin_end": 0.9,
            "bin_start": 0.8,
            "count": 0
           },
           {
            "bin_end": 1,
            "bin_start": 0.9,
            "count": 0
           },
           {
            "bin_end": 1.1,
            "bin_start": 1,
            "count": 1
           },
           {
            "bin_end": 1.2000000000000002,
            "bin_start": 1.1,
            "count": 0
           },
           {
            "bin_end": 1.3,
            "bin_start": 1.2000000000000002,
            "count": 0
           },
           {
            "bin_end": 1.4,
            "bin_start": 1.3,
            "count": 0
           },
           {
            "bin_end": 1.5,
            "bin_start": 1.4,
            "count": 0
           }
          ],
          "max": "1",
          "min": "1",
          "nan_count": 0,
          "unique_count": 1
         }
        },
        {
         "dtype": "object",
         "name": "name",
         "stats": {
          "categories": [
           {
            "count": 1,
            "name": "Капустина Василиса Аркадьевна"
           }
          ],
          "nan_count": 0,
          "unique_count": 1
         }
        },
        {
         "dtype": "object",
         "name": "property",
         "stats": {
          "categories": [
           {
            "count": 1,
            "name": "Трансформация круглосуточных интернет-магазинов"
           }
          ],
          "nan_count": 0,
          "unique_count": 1
         }
        },
        {
         "dtype": "object",
         "name": "address",
         "stats": {
          "categories": [
           {
            "count": 1,
            "name": "ст. Верхотурье, алл. Кошевого, д. 5/9, 071826"
           }
          ],
          "nan_count": 0,
          "unique_count": 1
         }
        },
        {
         "dtype": "object",
         "name": "phone",
         "stats": {
          "categories": [
           {
            "count": 1,
            "name": "+7 (183) 713-2624"
           }
          ],
          "nan_count": 0,
          "unique_count": 1
         }
        },
        {
         "dtype": "object",
         "name": "contact_person",
         "stats": {
          "categories": [
           {
            "count": 1,
            "name": "Куликова Вероника Владиславовна"
           }
          ],
          "nan_count": 0,
          "unique_count": 1
         }
        },
        {
         "dtype": "int64",
         "name": "_deepnote_index_column"
        }
       ],
       "row_count": 1,
       "rows": [
        {
         "_deepnote_index_column": "0",
         "address": "ст. Верхотурье, алл. Кошевого, д. 5/9, 071826",
         "contact_person": "Куликова Вероника Владиславовна",
         "id": "1",
         "name": "Капустина Василиса Аркадьевна",
         "phone": "+7 (183) 713-2624",
         "property": "Трансформация круглосуточных интернет-магазинов"
        }
       ]
      },
      "text/html": [
       "<div>\n",
       "<style scoped>\n",
       "    .dataframe tbody tr th:only-of-type {\n",
       "        vertical-align: middle;\n",
       "    }\n",
       "\n",
       "    .dataframe tbody tr th {\n",
       "        vertical-align: top;\n",
       "    }\n",
       "\n",
       "    .dataframe thead th {\n",
       "        text-align: right;\n",
       "    }\n",
       "</style>\n",
       "<table border=\"1\" class=\"dataframe\">\n",
       "  <thead>\n",
       "    <tr style=\"text-align: right;\">\n",
       "      <th></th>\n",
       "      <th>id</th>\n",
       "      <th>name</th>\n",
       "      <th>property</th>\n",
       "      <th>address</th>\n",
       "      <th>phone</th>\n",
       "      <th>contact_person</th>\n",
       "    </tr>\n",
       "  </thead>\n",
       "  <tbody>\n",
       "    <tr>\n",
       "      <th>0</th>\n",
       "      <td>1</td>\n",
       "      <td>Капустина Василиса Аркадьевна</td>\n",
       "      <td>Трансформация круглосуточных интернет-магазинов</td>\n",
       "      <td>ст. Верхотурье, алл. Кошевого, д. 5/9, 071826</td>\n",
       "      <td>+7 (183) 713-2624</td>\n",
       "      <td>Куликова Вероника Владиславовна</td>\n",
       "    </tr>\n",
       "  </tbody>\n",
       "</table>\n",
       "</div>"
      ],
      "text/plain": [
       "   id                           name  \\\n",
       "0   1  Капустина Василиса Аркадьевна   \n",
       "\n",
       "                                          property  \\\n",
       "0  Трансформация круглосуточных интернет-магазинов   \n",
       "\n",
       "                                         address              phone  \\\n",
       "0  ст. Верхотурье, алл. Кошевого, д. 5/9, 071826  +7 (183) 713-2624   \n",
       "\n",
       "                    contact_person  \n",
       "0  Куликова Вероника Владиславовна  "
      ]
     },
     "execution_count": 20,
     "metadata": {},
     "output_type": "execute_result"
    }
   ],
   "source": [
    "pd.read_sql(sql_select_users_table, conn)"
   ]
  },
  {
   "cell_type": "markdown",
   "metadata": {
    "cell_id": "ef124babc7c64bc0ade342958ebd22e7",
    "deepnote_cell_type": "text-cell-h2",
    "formattedRanges": [],
    "is_collapsed": false,
    "tags": []
   },
   "source": [
    "## Виды кредитов"
   ]
  },
  {
   "cell_type": "code",
   "execution_count": 21,
   "metadata": {
    "cell_id": "11afec03cf55476d8bc0ab2a281881fa",
    "deepnote_cell_type": "code",
    "deepnote_to_be_reexecuted": false,
    "execution_millis": 18,
    "execution_start": 1678374359528,
    "source_hash": "9ff309ac",
    "tags": []
   },
   "outputs": [
    {
     "data": {
      "application/vnd.deepnote.dataframe.v3+json": {
       "column_count": 5,
       "columns": [
        {
         "dtype": "int64",
         "name": "id",
         "stats": {
          "histogram": [
           {
            "bin_end": 0.6,
            "bin_start": 0.5,
            "count": 0
           },
           {
            "bin_end": 0.7,
            "bin_start": 0.6,
            "count": 0
           },
           {
            "bin_end": 0.8,
            "bin_start": 0.7,
            "count": 0
           },
           {
            "bin_end": 0.9,
            "bin_start": 0.8,
            "count": 0
           },
           {
            "bin_end": 1,
            "bin_start": 0.9,
            "count": 0
           },
           {
            "bin_end": 1.1,
            "bin_start": 1,
            "count": 1
           },
           {
            "bin_end": 1.2000000000000002,
            "bin_start": 1.1,
            "count": 0
           },
           {
            "bin_end": 1.3,
            "bin_start": 1.2000000000000002,
            "count": 0
           },
           {
            "bin_end": 1.4,
            "bin_start": 1.3,
            "count": 0
           },
           {
            "bin_end": 1.5,
            "bin_start": 1.4,
            "count": 0
           }
          ],
          "max": "1",
          "min": "1",
          "nan_count": 0,
          "unique_count": 1
         }
        },
        {
         "dtype": "object",
         "name": "name",
         "stats": {
          "categories": [
           {
            "count": 1,
            "name": "Уничтожение висеть мимо призыв ребятишки поезд."
           }
          ],
          "nan_count": 0,
          "unique_count": 1
         }
        },
        {
         "dtype": "object",
         "name": "description",
         "stats": {
          "categories": [
           {
            "count": 1,
            "name": "Темнеть написать выгнать падать плавно очутиться степь. Господь жить пол сходить витрина. Назначить потом космос болото. Невыносимый пища угодный выбирать головной. Сверкающий место страсть функция школьный."
           }
          ],
          "nan_count": 0,
          "unique_count": 1
         }
        },
        {
         "dtype": "float64",
         "name": "rate",
         "stats": {
          "histogram": [
           {
            "bin_end": -0.33999999999999997,
            "bin_start": -0.44,
            "count": 0
           },
           {
            "bin_end": -0.24,
            "bin_start": -0.33999999999999997,
            "count": 0
           },
           {
            "bin_end": -0.13999999999999996,
            "bin_start": -0.24,
            "count": 0
           },
           {
            "bin_end": -0.03999999999999998,
            "bin_start": -0.13999999999999996,
            "count": 0
           },
           {
            "bin_end": 0.06,
            "bin_start": -0.03999999999999998,
            "count": 0
           },
           {
            "bin_end": 0.1600000000000001,
            "bin_start": 0.06,
            "count": 1
           },
           {
            "bin_end": 0.26000000000000006,
            "bin_start": 0.1600000000000001,
            "count": 0
           },
           {
            "bin_end": 0.36000000000000004,
            "bin_start": 0.26000000000000006,
            "count": 0
           },
           {
            "bin_end": 0.46,
            "bin_start": 0.36000000000000004,
            "count": 0
           },
           {
            "bin_end": 0.56,
            "bin_start": 0.46,
            "count": 0
           }
          ],
          "max": "0.06",
          "min": "0.06",
          "nan_count": 0,
          "unique_count": 1
         }
        },
        {
         "dtype": "int64",
         "name": "period",
         "stats": {
          "histogram": [
           {
            "bin_end": 195.6,
            "bin_start": 195.5,
            "count": 0
           },
           {
            "bin_end": 195.7,
            "bin_start": 195.6,
            "count": 0
           },
           {
            "bin_end": 195.8,
            "bin_start": 195.7,
            "count": 0
           },
           {
            "bin_end": 195.9,
            "bin_start": 195.8,
            "count": 0
           },
           {
            "bin_end": 196,
            "bin_start": 195.9,
            "count": 0
           },
           {
            "bin_end": 196.1,
            "bin_start": 196,
            "count": 1
           },
           {
            "bin_end": 196.2,
            "bin_start": 196.1,
            "count": 0
           },
           {
            "bin_end": 196.3,
            "bin_start": 196.2,
            "count": 0
           },
           {
            "bin_end": 196.4,
            "bin_start": 196.3,
            "count": 0
           },
           {
            "bin_end": 196.5,
            "bin_start": 196.4,
            "count": 0
           }
          ],
          "max": "196",
          "min": "196",
          "nan_count": 0,
          "unique_count": 1
         }
        },
        {
         "dtype": "int64",
         "name": "_deepnote_index_column"
        }
       ],
       "row_count": 1,
       "rows": [
        {
         "_deepnote_index_column": "0",
         "description": "Темнеть написать выгнать падать плавно очутиться степь. Господь жить пол сходить витрина. Назначить потом космос болото. Невыносимый пища угодный выбирать головной. Сверкающий место страсть функция школьный.",
         "id": "1",
         "name": "Уничтожение висеть мимо призыв ребятишки поезд.",
         "period": "196",
         "rate": "0.06"
        }
       ]
      },
      "text/html": [
       "<div>\n",
       "<style scoped>\n",
       "    .dataframe tbody tr th:only-of-type {\n",
       "        vertical-align: middle;\n",
       "    }\n",
       "\n",
       "    .dataframe tbody tr th {\n",
       "        vertical-align: top;\n",
       "    }\n",
       "\n",
       "    .dataframe thead th {\n",
       "        text-align: right;\n",
       "    }\n",
       "</style>\n",
       "<table border=\"1\" class=\"dataframe\">\n",
       "  <thead>\n",
       "    <tr style=\"text-align: right;\">\n",
       "      <th></th>\n",
       "      <th>id</th>\n",
       "      <th>name</th>\n",
       "      <th>description</th>\n",
       "      <th>rate</th>\n",
       "      <th>period</th>\n",
       "    </tr>\n",
       "  </thead>\n",
       "  <tbody>\n",
       "    <tr>\n",
       "      <th>0</th>\n",
       "      <td>1</td>\n",
       "      <td>Уничтожение висеть мимо призыв ребятишки поезд.</td>\n",
       "      <td>Темнеть написать выгнать падать плавно очутить...</td>\n",
       "      <td>0.06</td>\n",
       "      <td>196</td>\n",
       "    </tr>\n",
       "  </tbody>\n",
       "</table>\n",
       "</div>"
      ],
      "text/plain": [
       "   id                                             name  \\\n",
       "0   1  Уничтожение висеть мимо призыв ребятишки поезд.   \n",
       "\n",
       "                                         description  rate  period  \n",
       "0  Темнеть написать выгнать падать плавно очутить...  0.06     196  "
      ]
     },
     "execution_count": 21,
     "metadata": {},
     "output_type": "execute_result"
    }
   ],
   "source": [
    "pd.read_sql(sql_select_credits_table, conn)"
   ]
  },
  {
   "cell_type": "markdown",
   "metadata": {
    "cell_id": "e68d8498416a472db5cbfb13ea1d2061",
    "deepnote_cell_type": "text-cell-h2",
    "formattedRanges": [],
    "is_collapsed": false,
    "tags": []
   },
   "source": [
    "## Выданные кредиты"
   ]
  },
  {
   "cell_type": "code",
   "execution_count": 32,
   "metadata": {
    "cell_id": "f044a8c6420942c19e23026e98171c72",
    "deepnote_cell_type": "code",
    "deepnote_to_be_reexecuted": false,
    "execution_millis": 2,
    "execution_start": 1678374621984,
    "source_hash": "4abf12ee",
    "tags": []
   },
   "outputs": [
    {
     "data": {
      "application/vnd.deepnote.dataframe.v3+json": {
       "column_count": 5,
       "columns": [
        {
         "dtype": "int64",
         "name": "id",
         "stats": {
          "histogram": [
           {
            "bin_end": 1.2,
            "bin_start": 1,
            "count": 1
           },
           {
            "bin_end": 1.4,
            "bin_start": 1.2,
            "count": 0
           },
           {
            "bin_end": 1.6,
            "bin_start": 1.4,
            "count": 0
           },
           {
            "bin_end": 1.8,
            "bin_start": 1.6,
            "count": 0
           },
           {
            "bin_end": 2,
            "bin_start": 1.8,
            "count": 0
           },
           {
            "bin_end": 2.2,
            "bin_start": 2,
            "count": 1
           },
           {
            "bin_end": 2.4000000000000004,
            "bin_start": 2.2,
            "count": 0
           },
           {
            "bin_end": 2.6,
            "bin_start": 2.4000000000000004,
            "count": 0
           },
           {
            "bin_end": 2.8,
            "bin_start": 2.6,
            "count": 0
           },
           {
            "bin_end": 3,
            "bin_start": 2.8,
            "count": 1
           }
          ],
          "max": "3",
          "min": "1",
          "nan_count": 0,
          "unique_count": 3
         }
        },
        {
         "dtype": "int64",
         "name": "credit_id",
         "stats": {
          "histogram": [
           {
            "bin_end": 0.6,
            "bin_start": 0.5,
            "count": 0
           },
           {
            "bin_end": 0.7,
            "bin_start": 0.6,
            "count": 0
           },
           {
            "bin_end": 0.8,
            "bin_start": 0.7,
            "count": 0
           },
           {
            "bin_end": 0.9,
            "bin_start": 0.8,
            "count": 0
           },
           {
            "bin_end": 1,
            "bin_start": 0.9,
            "count": 0
           },
           {
            "bin_end": 1.1,
            "bin_start": 1,
            "count": 3
           },
           {
            "bin_end": 1.2000000000000002,
            "bin_start": 1.1,
            "count": 0
           },
           {
            "bin_end": 1.3,
            "bin_start": 1.2000000000000002,
            "count": 0
           },
           {
            "bin_end": 1.4,
            "bin_start": 1.3,
            "count": 0
           },
           {
            "bin_end": 1.5,
            "bin_start": 1.4,
            "count": 0
           }
          ],
          "max": "1",
          "min": "1",
          "nan_count": 0,
          "unique_count": 1
         }
        },
        {
         "dtype": "int64",
         "name": "user_id",
         "stats": {
          "histogram": [
           {
            "bin_end": 0.6,
            "bin_start": 0.5,
            "count": 0
           },
           {
            "bin_end": 0.7,
            "bin_start": 0.6,
            "count": 0
           },
           {
            "bin_end": 0.8,
            "bin_start": 0.7,
            "count": 0
           },
           {
            "bin_end": 0.9,
            "bin_start": 0.8,
            "count": 0
           },
           {
            "bin_end": 1,
            "bin_start": 0.9,
            "count": 0
           },
           {
            "bin_end": 1.1,
            "bin_start": 1,
            "count": 3
           },
           {
            "bin_end": 1.2000000000000002,
            "bin_start": 1.1,
            "count": 0
           },
           {
            "bin_end": 1.3,
            "bin_start": 1.2000000000000002,
            "count": 0
           },
           {
            "bin_end": 1.4,
            "bin_start": 1.3,
            "count": 0
           },
           {
            "bin_end": 1.5,
            "bin_start": 1.4,
            "count": 0
           }
          ],
          "max": "1",
          "min": "1",
          "nan_count": 0,
          "unique_count": 1
         }
        },
        {
         "dtype": "int64",
         "name": "amount",
         "stats": {
          "histogram": [
           {
            "bin_end": 596902.4,
            "bin_start": 139002,
            "count": 1
           },
           {
            "bin_end": 1054802.8,
            "bin_start": 596902.4,
            "count": 0
           },
           {
            "bin_end": 1512703.2000000002,
            "bin_start": 1054802.8,
            "count": 0
           },
           {
            "bin_end": 1970603.6,
            "bin_start": 1512703.2000000002,
            "count": 0
           },
           {
            "bin_end": 2428504,
            "bin_start": 1970603.6,
            "count": 1
           },
           {
            "bin_end": 2886404.4000000004,
            "bin_start": 2428504,
            "count": 0
           },
           {
            "bin_end": 3344304.8000000003,
            "bin_start": 2886404.4000000004,
            "count": 0
           },
           {
            "bin_end": 3802205.2,
            "bin_start": 3344304.8000000003,
            "count": 0
           },
           {
            "bin_end": 4260105.6,
            "bin_start": 3802205.2,
            "count": 0
           },
           {
            "bin_end": 4718006,
            "bin_start": 4260105.6,
            "count": 1
           }
          ],
          "max": "4718006",
          "min": "139002",
          "nan_count": 0,
          "unique_count": 3
         }
        },
        {
         "dtype": "object",
         "name": "start_date",
         "stats": {
          "categories": [
           {
            "count": 1,
            "name": "1997-05-20"
           },
           {
            "count": 1,
            "name": "2017-03-08"
           },
           {
            "count": 1,
            "name": "2001-10-05"
           }
          ],
          "nan_count": 0,
          "unique_count": 3
         }
        },
        {
         "dtype": "int64",
         "name": "_deepnote_index_column"
        }
       ],
       "row_count": 3,
       "rows": [
        {
         "_deepnote_index_column": "0",
         "amount": "4718006",
         "credit_id": "1",
         "id": "1",
         "start_date": "1997-05-20",
         "user_id": "1"
        },
        {
         "_deepnote_index_column": "1",
         "amount": "139002",
         "credit_id": "1",
         "id": "2",
         "start_date": "2017-03-08",
         "user_id": "1"
        },
        {
         "_deepnote_index_column": "2",
         "amount": "2018233",
         "credit_id": "1",
         "id": "3",
         "start_date": "2001-10-05",
         "user_id": "1"
        }
       ]
      },
      "text/html": [
       "<div>\n",
       "<style scoped>\n",
       "    .dataframe tbody tr th:only-of-type {\n",
       "        vertical-align: middle;\n",
       "    }\n",
       "\n",
       "    .dataframe tbody tr th {\n",
       "        vertical-align: top;\n",
       "    }\n",
       "\n",
       "    .dataframe thead th {\n",
       "        text-align: right;\n",
       "    }\n",
       "</style>\n",
       "<table border=\"1\" class=\"dataframe\">\n",
       "  <thead>\n",
       "    <tr style=\"text-align: right;\">\n",
       "      <th></th>\n",
       "      <th>id</th>\n",
       "      <th>credit_id</th>\n",
       "      <th>user_id</th>\n",
       "      <th>amount</th>\n",
       "      <th>start_date</th>\n",
       "    </tr>\n",
       "  </thead>\n",
       "  <tbody>\n",
       "    <tr>\n",
       "      <th>0</th>\n",
       "      <td>1</td>\n",
       "      <td>1</td>\n",
       "      <td>1</td>\n",
       "      <td>4718006</td>\n",
       "      <td>1997-05-20</td>\n",
       "    </tr>\n",
       "    <tr>\n",
       "      <th>1</th>\n",
       "      <td>2</td>\n",
       "      <td>1</td>\n",
       "      <td>1</td>\n",
       "      <td>139002</td>\n",
       "      <td>2017-03-08</td>\n",
       "    </tr>\n",
       "    <tr>\n",
       "      <th>2</th>\n",
       "      <td>3</td>\n",
       "      <td>1</td>\n",
       "      <td>1</td>\n",
       "      <td>2018233</td>\n",
       "      <td>2001-10-05</td>\n",
       "    </tr>\n",
       "  </tbody>\n",
       "</table>\n",
       "</div>"
      ],
      "text/plain": [
       "   id  credit_id  user_id   amount  start_date\n",
       "0   1          1        1  4718006  1997-05-20\n",
       "1   2          1        1   139002  2017-03-08\n",
       "2   3          1        1  2018233  2001-10-05"
      ]
     },
     "execution_count": 32,
     "metadata": {},
     "output_type": "execute_result"
    }
   ],
   "source": [
    "pd.read_sql(sql_select_contracts_table, conn)"
   ]
  },
  {
   "cell_type": "markdown",
   "metadata": {
    "cell_id": "c6775064cb3149fd83e907b4c542ce8a",
    "deepnote_cell_type": "text-cell-h1",
    "formattedRanges": [],
    "is_collapsed": false,
    "tags": []
   },
   "source": [
    "# UI компоненты"
   ]
  },
  {
   "cell_type": "markdown",
   "metadata": {
    "cell_id": "ea6532569fc34753933d84fd70f81a6c",
    "deepnote_cell_type": "text-cell-h2",
    "formattedRanges": [],
    "is_collapsed": false,
    "tags": []
   },
   "source": [
    "## Web app"
   ]
  },
  {
   "cell_type": "markdown",
   "metadata": {
    "cell_id": "d94a36011d8a4597826f672665df31bd",
    "deepnote_cell_type": "markdown",
    "tags": []
   },
   "source": [
    "Streamlit = Web app!"
   ]
  },
  {
   "cell_type": "markdown",
   "metadata": {
    "cell_id": "c7f278925606453e8a1efe23dab93f1a",
    "deepnote_cell_type": "text-cell-h2",
    "formattedRanges": [],
    "is_collapsed": false,
    "tags": []
   },
   "source": [
    "## Desktop app"
   ]
  },
  {
   "cell_type": "markdown",
   "metadata": {
    "cell_id": "e9883784c49d410fb931e3bfe7f04fdc",
    "deepnote_cell_type": "markdown",
    "tags": []
   },
   "source": [
    "https://discuss.streamlit.io/t/streamlit-wasm-electron-desktop-app/31655\n",
    "\n",
    "Streamlit + Wasm + Electron = Desktop app!"
   ]
  },
  {
   "cell_type": "markdown",
   "metadata": {
    "cell_id": "f7f5cb7d6c1a48ec82d2d34d07489935",
    "deepnote_cell_type": "markdown",
    "tags": []
   },
   "source": []
  },
  {
   "cell_type": "markdown",
   "metadata": {
    "created_in_deepnote_cell": true,
    "deepnote_cell_type": "markdown",
    "tags": []
   },
   "source": [
    "<a style='text-decoration:none;line-height:16px;display:flex;color:#5B5B62;padding:10px;justify-content:end;' href='https://deepnote.com?utm_source=created-in-deepnote-cell&projectId=f982d86a-fb45-4a02-b4ea-c7285dcef6ac' target=\"_blank\">\n",
    "<img alt='Created in deepnote.com' style='display:inline;max-height:16px;margin:0px;margin-right:7.5px;' src='data:image/svg+xml;base64,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' > </img>\n",
    "Created in <span style='font-weight:600;margin-left:4px;'>Deepnote</span></a>"
   ]
  }
 ],
 "metadata": {
  "deepnote": {},
  "deepnote_execution_queue": [],
  "deepnote_notebook_id": "8e529c49fa5b464fb9657307c26b5629",
  "kernelspec": {
   "display_name": "Python 3 (ipykernel)",
   "language": "python",
   "name": "python3"
  },
  "language_info": {
   "codemirror_mode": {
    "name": "ipython",
    "version": 3
   },
   "file_extension": ".py",
   "mimetype": "text/x-python",
   "name": "python",
   "nbconvert_exporter": "python",
   "pygments_lexer": "ipython3",
   "version": "3.8.16"
  }
 },
 "nbformat": 4,
 "nbformat_minor": 4
}
